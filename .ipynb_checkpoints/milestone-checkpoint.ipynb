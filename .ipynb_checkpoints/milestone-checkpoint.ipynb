{
 "cells": [
  {
   "cell_type": "code",
   "execution_count": 1,
   "id": "4f667e85",
   "metadata": {},
   "outputs": [],
   "source": [
    "import pandas as pd\n",
    "import numpy as np\n",
    "import statsmodels.formula.api as smf\n",
    "import statsmodels.api as sm\n",
    "import seaborn as sns\n",
    "import matplotlib.pyplot as plt\n",
    "from patsy import dmatrix\n",
    "from sklearn.metrics import mean_squared_error\n",
    "data = pd.read_csv(\"data/heart_2020_cleaned_v2.csv\")\n",
    "#data1 = pd.read_csv(\"/data/heart_2020_cleaned_v2.csv\",lines=True)"
   ]
  },
  {
   "cell_type": "code",
   "execution_count": 21,
   "id": "48bde50c",
   "metadata": {},
   "outputs": [
    {
     "name": "stdout",
     "output_type": "stream",
     "text": [
      "cv_results: {'fit_time': array([0.04900146, 0.03991485, 0.04385424]), 'score_time': array([0.28873205, 0.30044794, 0.27501321]), 'test_score': array([0.91188601, 0.91149447, 0.9103694 ])}\n",
      "0.084125\n",
      "roc_auc cv_results: {'fit_time': array([0.04387593, 0.04690576, 0.04288697]), 'score_time': array([0.07776213, 0.10017872, 0.08595228]), 'test_score': array([0.6029261 , 0.58987585, 0.61914296])}\n"
     ]
    }
   ],
   "source": [
    "# add all the parameters to the X (ie. age categoriy and race)\n",
    "# KNN analysis\n",
    "\n",
    "from sklearn.model_selection import train_test_split\n",
    "from sklearn.model_selection import cross_validate\n",
    "X=data[['BMI','Smoking','AlcoholDrinking', 'Stroke', \n",
    "        'PhysicalHealth', 'MentalHealth', 'DiffWalking', \n",
    "        'Sex_Male']]\n",
    "y=data['HeartDisease']\n",
    "\n",
    "X_train, X_test, y_train, y_test = train_test_split(X, y, test_size=0.2,random_state=0)\n",
    "\n",
    "from sklearn.neighbors import KNeighborsClassifier\n",
    "knn=KNeighborsClassifier()\n",
    "cv_results = cross_validate(knn,X_train,y_train,cv=3)\n",
    "print('cv_results:',cv_results)\n",
    "print(sum(y_train)/len(y_train))\n",
    "cv_results = cross_validate(knn, X_train, y_train, cv=3,scoring='roc_auc')\n",
    "print('cv_results with roc_auc:',cv_results)"
   ]
  },
  {
   "cell_type": "code",
   "execution_count": 24,
   "id": "468809b5",
   "metadata": {},
   "outputs": [
    {
     "name": "stdout",
     "output_type": "stream",
     "text": [
      "{'mean_fit_time': array([0.06881618, 0.05684598, 0.07546496, 0.04538314, 0.07912079,\n",
      "       0.04853686, 0.06748501, 0.04521235, 0.05934421, 0.04371977,\n",
      "       0.06150142, 0.04587714, 0.07114259, 0.04554375, 0.06515813,\n",
      "       0.04355137, 0.06216582, 0.0465432 , 0.06948098, 0.04571207]), 'std_fit_time': array([0.00293655, 0.00281901, 0.00658199, 0.00187087, 0.00870692,\n",
      "       0.00204945, 0.00729931, 0.00124341, 0.00333364, 0.00238201,\n",
      "       0.00329103, 0.0024424 , 0.0047717 , 0.00286106, 0.00339045,\n",
      "       0.00188071, 0.00448465, 0.00261855, 0.00094049, 0.00192759]), 'mean_score_time': array([0.00432181, 0.00308585, 0.00299199, 0.00365814, 0.00365678,\n",
      "       0.00332475, 0.00332506, 0.00332467, 0.00332491, 0.00332443,\n",
      "       0.00399057, 0.00365671, 0.0039897 , 0.00399073, 0.0036575 ,\n",
      "       0.00332411, 0.00332514, 0.00365639, 0.00432189, 0.00365742]), 'std_score_time': array([1.24356041e-03, 1.32846867e-04, 4.89903609e-07, 4.71089465e-04,\n",
      "       4.69966275e-04, 4.70021695e-04, 4.68617578e-04, 4.70246478e-04,\n",
      "       4.70921149e-04, 4.69740686e-04, 5.61957980e-07, 4.70583653e-04,\n",
      "       1.94667955e-07, 8.15464186e-04, 4.70134046e-04, 4.69628294e-04,\n",
      "       4.69741170e-04, 4.69348314e-04, 4.70134086e-04, 9.40492956e-04]), 'param_C': masked_array(data=[1, 1, 10, 10, 100, 100, 1000, 1000, 10000, 10000,\n",
      "                   100000, 100000, 1000000, 1000000, 10000000, 10000000,\n",
      "                   100000000, 100000000, 1000000000, 1000000000],\n",
      "             mask=[False, False, False, False, False, False, False, False,\n",
      "                   False, False, False, False, False, False, False, False,\n",
      "                   False, False, False, False],\n",
      "       fill_value='?',\n",
      "            dtype=object), 'param_penalty': masked_array(data=['l1', 'l2', 'l1', 'l2', 'l1', 'l2', 'l1', 'l2', 'l1',\n",
      "                   'l2', 'l1', 'l2', 'l1', 'l2', 'l1', 'l2', 'l1', 'l2',\n",
      "                   'l1', 'l2'],\n",
      "             mask=[False, False, False, False, False, False, False, False,\n",
      "                   False, False, False, False, False, False, False, False,\n",
      "                   False, False, False, False],\n",
      "       fill_value='?',\n",
      "            dtype=object), 'params': [{'C': 1, 'penalty': 'l1'}, {'C': 1, 'penalty': 'l2'}, {'C': 10, 'penalty': 'l1'}, {'C': 10, 'penalty': 'l2'}, {'C': 100, 'penalty': 'l1'}, {'C': 100, 'penalty': 'l2'}, {'C': 1000, 'penalty': 'l1'}, {'C': 1000, 'penalty': 'l2'}, {'C': 10000, 'penalty': 'l1'}, {'C': 10000, 'penalty': 'l2'}, {'C': 100000, 'penalty': 'l1'}, {'C': 100000, 'penalty': 'l2'}, {'C': 1000000, 'penalty': 'l1'}, {'C': 1000000, 'penalty': 'l2'}, {'C': 10000000, 'penalty': 'l1'}, {'C': 10000000, 'penalty': 'l2'}, {'C': 100000000, 'penalty': 'l1'}, {'C': 100000000, 'penalty': 'l2'}, {'C': 1000000000, 'penalty': 'l1'}, {'C': 1000000000, 'penalty': 'l2'}], 'split0_test_score': array([0.91563555, 0.91563555, 0.91563555, 0.91563555, 0.91563555,\n",
      "       0.91563555, 0.91563555, 0.91563555, 0.91563555, 0.91563555,\n",
      "       0.91563555, 0.91563555, 0.91563555, 0.91563555, 0.91563555,\n",
      "       0.91563555, 0.91563555, 0.91563555, 0.91563555, 0.91563555]), 'split1_test_score': array([0.91505719, 0.91449466, 0.91468217, 0.91486968, 0.91449466,\n",
      "       0.91449466, 0.91449466, 0.91449466, 0.91449466, 0.91449466,\n",
      "       0.91449466, 0.91449466, 0.91449466, 0.91449466, 0.91449466,\n",
      "       0.91449466, 0.91449466, 0.91449466, 0.91449466, 0.91449466]), 'split2_test_score': array([0.91599475, 0.91618226, 0.91561973, 0.91561973, 0.91561973,\n",
      "       0.91561973, 0.91561973, 0.91561973, 0.91561973, 0.91561973,\n",
      "       0.91561973, 0.91561973, 0.91561973, 0.91561973, 0.91561973,\n",
      "       0.91561973, 0.91561973, 0.91561973, 0.91561973, 0.91561973]), 'mean_test_score': array([0.9155625 , 0.91543749, 0.91531248, 0.91537498, 0.91524998,\n",
      "       0.91524998, 0.91524998, 0.91524998, 0.91524998, 0.91524998,\n",
      "       0.91524998, 0.91524998, 0.91524998, 0.91524998, 0.91524998,\n",
      "       0.91524998, 0.91524998, 0.91524998, 0.91524998, 0.91524998]), 'std_test_score': array([0.00038623, 0.00070305, 0.00044574, 0.00035736, 0.00053413,\n",
      "       0.00053413, 0.00053413, 0.00053413, 0.00053413, 0.00053413,\n",
      "       0.00053413, 0.00053413, 0.00053413, 0.00053413, 0.00053413,\n",
      "       0.00053413, 0.00053413, 0.00053413, 0.00053413, 0.00053413]), 'rank_test_score': array([1, 2, 4, 3, 5, 5, 5, 5, 5, 5, 5, 5, 5, 5, 5, 5, 5, 5, 5, 5])}\n"
     ]
    },
    {
     "data": {
      "text/plain": [
       "0.91675"
      ]
     },
     "execution_count": 24,
     "metadata": {},
     "output_type": "execute_result"
    }
   ],
   "source": [
    "# Logistic Regression\n",
    "from sklearn.linear_model import LogisticRegression\n",
    "from sklearn.model_selection import GridSearchCV\n",
    "\n",
    "lr_model = LogisticRegression(solver='liblinear') # LogisticRegression is a␣classification!!\n",
    "cv_results = cross_validate(lr_model, X_train, y_train, cv=3)\n",
    "cv_results\n",
    "\n",
    "parameters = {'C':[pow(10,i) for i in range(0, 10)],'penalty':['l1','l2']}\n",
    "clf = GridSearchCV(LogisticRegression(solver='liblinear'), parameters,cv=3) #liblinear allow l1 panelty as well\n",
    "clf.fit(X_train,y_train)\n",
    "print(clf.cv_results_)\n",
    "\n",
    "clf.score(X_test, y_test)"
   ]
  }
 ],
 "metadata": {
  "kernelspec": {
   "display_name": "Python 3 (ipykernel)",
   "language": "python",
   "name": "python3"
  },
  "language_info": {
   "codemirror_mode": {
    "name": "ipython",
    "version": 3
   },
   "file_extension": ".py",
   "mimetype": "text/x-python",
   "name": "python",
   "nbconvert_exporter": "python",
   "pygments_lexer": "ipython3",
   "version": "3.8.13"
  }
 },
 "nbformat": 4,
 "nbformat_minor": 5
}
