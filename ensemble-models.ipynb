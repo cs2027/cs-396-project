{
 "cells": [
  {
   "cell_type": "code",
   "execution_count": 58,
   "id": "4f667e85",
   "metadata": {},
   "outputs": [],
   "source": [
    "import pandas as pd\n",
    "import numpy as np\n",
    "import matplotlib.pyplot as plt\n",
    "import seaborn as sns\n",
    "from sklearn.preprocessing import StandardScaler\n",
    "from sklearn.model_selection import cross_val_score, KFold, \\\n",
    "    StratifiedKFold, GridSearchCV, ParameterGrid, train_test_split, \\\n",
    "    cross_validate\n",
    "from sklearn.metrics import accuracy_score, recall_score\n",
    "from sklearn.neighbors import KNeighborsClassifier\n",
    "from sklearn.ensemble import GradientBoostingClassifier, AdaBoostClassifier, \\\n",
    "    RandomForestClassifier, ExtraTreesClassifier\n",
    "from sklearn.tree import DecisionTreeClassifier\n",
    "from imblearn.under_sampling import RandomUnderSampler\n",
    "import time as time"
   ]
  },
  {
   "cell_type": "markdown",
   "id": "7b44c707",
   "metadata": {},
   "source": [
    "# Read Data + Initial X, y Split {-}"
   ]
  },
  {
   "cell_type": "code",
   "execution_count": 59,
   "id": "1099605a",
   "metadata": {},
   "outputs": [],
   "source": [
    "df = pd.read_csv(\"data/heart_2020_cleaned_v2.csv\")\n",
    "\n",
    "X = df[df.columns.difference(['Unnamed: 0', 'HeartDisease'])]\n",
    "y = df['HeartDisease']\n",
    "\n",
    "X_train, X_test, y_train, y_test = train_test_split(\n",
    "    X, y, test_size = 0.2, random_state = 0\n",
    ")\n",
    "\n",
    "scaler = StandardScaler().fit(X_train)\n",
    "X_train = scaler.transform(X_train)\n",
    "X_test = scaler.transform(X_test)"
   ]
  },
  {
   "cell_type": "markdown",
   "id": "94acccb6",
   "metadata": {},
   "source": [
    "# Address Dataset Imbalance {-}"
   ]
  },
  {
   "cell_type": "code",
   "execution_count": 60,
   "id": "090751f9",
   "metadata": {},
   "outputs": [
    {
     "data": {
      "image/png": "[encoded data removed]",
      "text/plain": [
       "<Figure size 432x288 with 1 Axes>"
      ]
     },
     "metadata": {
      "needs_background": "light"
     },
     "output_type": "display_data"
    }
   ],
   "source": [
    "ax = y_train.value_counts().plot(\n",
    "    kind = 'bar', title = 'Relative Frequencies of Response Var'\n",
    ")\n",
    "ax.set_xlabel('Response Var (Heart Disease)')\n",
    "ax.set_ylabel('Frequencies')\n",
    "plt.show()"
   ]
  },
  {
   "cell_type": "code",
   "execution_count": 61,
   "id": "7a592c68",
   "metadata": {},
   "outputs": [],
   "source": [
    "rus = RandomUnderSampler(random_state = 1)\n",
    "X_train, y_train = rus.fit_resample(X_train, y_train)"
   ]
  },
  {
   "cell_type": "code",
   "execution_count": 62,
   "id": "5668b747",
   "metadata": {},
   "outputs": [
    {
     "data": {
      "image/png": "[encoded data removed]",
      "text/plain": [
       "<Figure size 432x288 with 1 Axes>"
      ]
     },
     "metadata": {
      "needs_background": "light"
     },
     "output_type": "display_data"
    }
   ],
   "source": [
    "ax = y_train.value_counts().plot(\n",
    "    kind = 'bar', \n",
    "    title = 'Relative Frequencies of Response Var \\n [After Undersampling]'\n",
    ")\n",
    "ax.set_xlabel('Response Var (Heart Disease)')\n",
    "ax.set_ylabel('Frequencies')\n",
    "plt.show()"
   ]
  },
  {
   "cell_type": "markdown",
   "id": "8fc796ca",
   "metadata": {},
   "source": [
    "# AdaBoost {-}"
   ]
  },
  {
   "cell_type": "code",
   "execution_count": 109,
   "id": "1e9790e5",
   "metadata": {},
   "outputs": [],
   "source": [
    "def plot_metrics_against_cutoff(model, cutoffs = np.arange(0, 1.05, 0.05)):\n",
    "    accuracies = []\n",
    "    recalls = []\n",
    "    \n",
    "    for cutoff in cutoffs:\n",
    "        acc, recall = eval_model(model, cutoff)\n",
    "        accuracies.append(acc)\n",
    "        recalls.append(recall)\n",
    "        \n",
    "    plt.plot(cutoffs, accuracies, marker = 'o', label = \"Accuracy\")\n",
    "    plt.plot(cutoffs, recalls, marker = 'o', label = \"Recall\")\n",
    "    plt.xlabel(\"Cutoff\")\n",
    "    plt.title(\"Cutoffs vs. Model Performances\")\n",
    "    plt.legend()\n",
    "    plt.grid()\n",
    "    plt.show()   \n",
    "\n",
    "def eval_model(model, cutoff = 0.5):\n",
    "    y_predict = (model.predict_proba(X_test)[:,1] >= cutoff).astype(int)\n",
    "    acc = accuracy_score(y_test, y_predict)\n",
    "    recall = recall_score(y_test, y_predict)\n",
    "    return acc, recall\n",
    "\n",
    "def print_model_results(model_name, eval_results, cutoff):\n",
    "    print(f\"{model_name} Results [Cutoff = {cutoff}] \")\n",
    "    print(\"Accuracy, Recall =\", eval_results)"
   ]
  },
  {
   "cell_type": "code",
   "execution_count": 102,
   "id": "64918541",
   "metadata": {},
   "outputs": [
    {
     "name": "stdout",
     "output_type": "stream",
     "text": [
      "Total Time (s): 74.79719996452332\n"
     ]
    }
   ],
   "source": [
    "start = time.time()\n",
    "\n",
    "grid = {\n",
    "    'base_estimator': [\n",
    "        DecisionTreeClassifier(max_depth = 5),\n",
    "        DecisionTreeClassifier(max_depth = 10),\n",
    "        DecisionTreeClassifier(max_depth = 15)\n",
    "    ],\n",
    "    'n_estimators': [50, 100, 200, 500],\n",
    "    'learning_rate': [0.01, 0.1, 1.0]\n",
    "}\n",
    "\n",
    "cv = StratifiedKFold(n_splits = 5, shuffle = True, random_state = 1)\n",
    "grid_search_adaboost = GridSearchCV(\n",
    "    estimator = AdaBoostClassifier(random_state = 1),\n",
    "    param_grid = grid,\n",
    "    n_jobs = -1, \n",
    "    cv = cv,\n",
    "    scoring = ['accuracy', 'recall'], \n",
    "    refit = 'recall'\n",
    ").fit(X_train, y_train)\n",
    "\n",
    "end = time.time()\n",
    "print(\"Total Time (s):\", end - start)"
   ]
  },
  {
   "cell_type": "code",
   "execution_count": 103,
   "id": "60f482d7",
   "metadata": {},
   "outputs": [
    {
     "data": {
      "text/plain": [
       "{'base_estimator': DecisionTreeClassifier(max_depth=5),\n",
       " 'learning_rate': 0.01,\n",
       " 'n_estimators': 500}"
      ]
     },
     "execution_count": 103,
     "metadata": {},
     "output_type": "execute_result"
    }
   ],
   "source": [
    "grid_search_adaboost.best_params_"
   ]
  },
  {
   "cell_type": "code",
   "execution_count": 104,
   "id": "3d27eae9",
   "metadata": {},
   "outputs": [],
   "source": [
    "model_adaboost = AdaBoostClassifier(\n",
    "    base_estimator = DecisionTreeClassifier(max_depth = 5), \n",
    "    n_estimators = 500,\n",
    "    learning_rate = 0.01, \n",
    "    random_state = 1\n",
    ").fit(X_train, y_train)"
   ]
  },
  {
   "cell_type": "code",
   "execution_count": 105,
   "id": "5b434980",
   "metadata": {
    "scrolled": true
   },
   "outputs": [
    {
     "data": {
      "image/png": "[encoded data removed]",
      "text/plain": [
       "<Figure size 432x288 with 1 Axes>"
      ]
     },
     "metadata": {
      "needs_background": "light"
     },
     "output_type": "display_data"
    }
   ],
   "source": [
    "plot_metrics_against_cutoff(model_adaboost)"
   ]
  },
  {
   "cell_type": "code",
   "execution_count": 106,
   "id": "9b332df8",
   "metadata": {},
   "outputs": [
    {
     "data": {
      "image/png": "[encoded data removed]",
      "text/plain": [
       "<Figure size 432x288 with 1 Axes>"
      ]
     },
     "metadata": {
      "needs_background": "light"
     },
     "output_type": "display_data"
    }
   ],
   "source": [
    "plot_metrics_against_cutoff(\n",
    "    model_adaboost,\n",
    "    np.arange(0.45, 0.66, 0.01)\n",
    ")"
   ]
  },
  {
   "cell_type": "code",
   "execution_count": 168,
   "id": "a108f9fb",
   "metadata": {},
   "outputs": [
    {
     "name": "stdout",
     "output_type": "stream",
     "text": [
      "AdaBoost Results [Cutoff = 0.514] \n",
      "Accuracy, Recall = (0.73975, 0.7027027027027027)\n"
     ]
    }
   ],
   "source": [
    "cutoff = 0.514\n",
    "\n",
    "print_model_results(\n",
    "    \"AdaBoost\", \n",
    "    eval_model(model_adaboost, cutoff), \n",
    "    cutoff\n",
    ")"
   ]
  },
  {
   "cell_type": "code",
   "execution_count": 143,
   "id": "95fa78bf",
   "metadata": {},
   "outputs": [
    {
     "name": "stdout",
     "output_type": "stream",
     "text": [
      "AdaBoost Results [Cutoff = 0.563] \n",
      "Accuracy, Recall = (0.8, 0.4954954954954955)\n"
     ]
    }
   ],
   "source": [
    "cutoff = 0.563\n",
    "\n",
    "print_model_results(\n",
    "    \"AdaBoost\", \n",
    "    eval_model(model_adaboost, cutoff), \n",
    "    cutoff\n",
    ")"
   ]
  },
  {
   "cell_type": "markdown",
   "id": "a466e793",
   "metadata": {},
   "source": [
    "# Gradient Boosting {-}"
   ]
  },
  {
   "cell_type": "code",
   "execution_count": 111,
   "id": "8e3a8546",
   "metadata": {},
   "outputs": [
    {
     "name": "stdout",
     "output_type": "stream",
     "text": [
      "Total Time (s): 72.72284197807312\n"
     ]
    }
   ],
   "source": [
    "start = time.time()\n",
    "\n",
    "grid = {\n",
    "    'n_estimators': [100, 200, 500],\n",
    "    'learning_rate': [0.001, 0.01, 0.1],\n",
    "    'max_depth': [3, 4, 5],\n",
    "    'subsample': [0.5, 0.75, 1.0]\n",
    "}\n",
    "\n",
    "cv = StratifiedKFold(n_splits = 5, shuffle = True, random_state = 1)\n",
    "grid_search_gradient = GridSearchCV(\n",
    "    estimator = GradientBoostingClassifier(random_state = 1),\n",
    "    param_grid = grid,\n",
    "    n_jobs = -1, \n",
    "    cv = cv,\n",
    "    scoring = ['accuracy', 'recall'], \n",
    "    refit = 'recall'\n",
    ").fit(X_train, y_train)\n",
    "\n",
    "end = time.time()\n",
    "print(\"Total Time (s):\", end - start)"
   ]
  },
  {
   "cell_type": "code",
   "execution_count": 112,
   "id": "b985f076",
   "metadata": {},
   "outputs": [
    {
     "data": {
      "text/plain": [
       "{'learning_rate': 0.1, 'max_depth': 3, 'n_estimators': 200, 'subsample': 0.5}"
      ]
     },
     "execution_count": 112,
     "metadata": {},
     "output_type": "execute_result"
    }
   ],
   "source": [
    "grid_search_gradient.best_params_"
   ]
  },
  {
   "cell_type": "code",
   "execution_count": 113,
   "id": "3e3118c4",
   "metadata": {},
   "outputs": [],
   "source": [
    "model_gradient = GradientBoostingClassifier(\n",
    "    n_estimators = 200, learning_rate = 0.1,\n",
    "    max_depth = 3, subsample = 0.5, random_state = 1\n",
    ").fit(X_train, y_train)"
   ]
  },
  {
   "cell_type": "code",
   "execution_count": 114,
   "id": "96c7c69c",
   "metadata": {},
   "outputs": [
    {
     "data": {
      "image/png": "[encoded data removed]",
      "text/plain": [
       "<Figure size 432x288 with 1 Axes>"
      ]
     },
     "metadata": {
      "needs_background": "light"
     },
     "output_type": "display_data"
    }
   ],
   "source": [
    "plot_metrics_against_cutoff(model_gradient)"
   ]
  },
  {
   "cell_type": "code",
   "execution_count": 115,
   "id": "c4a086c3",
   "metadata": {},
   "outputs": [
    {
     "data": {
      "image/png": "[encoded data removed]",
      "text/plain": [
       "<Figure size 432x288 with 1 Axes>"
      ]
     },
     "metadata": {
      "needs_background": "light"
     },
     "output_type": "display_data"
    }
   ],
   "source": [
    "plot_metrics_against_cutoff(\n",
    "    model_gradient,\n",
    "    np.arange(0.5, 0.71, 0.01)\n",
    ")"
   ]
  },
  {
   "cell_type": "code",
   "execution_count": 171,
   "id": "2281fce4",
   "metadata": {},
   "outputs": [
    {
     "name": "stdout",
     "output_type": "stream",
     "text": [
      "Gradient Boosting Results [Cutoff = 0.573] \n",
      "Accuracy, Recall = (0.7655, 0.7027027027027027)\n"
     ]
    }
   ],
   "source": [
    "cutoff = 0.573\n",
    "\n",
    "print_model_results(\n",
    "    \"Gradient Boosting\", \n",
    "    eval_model(model_gradient, cutoff), \n",
    "    cutoff\n",
    ")"
   ]
  },
  {
   "cell_type": "code",
   "execution_count": 169,
   "id": "a2244cbd",
   "metadata": {},
   "outputs": [
    {
     "name": "stdout",
     "output_type": "stream",
     "text": [
      "Gradient Boosting Results [Cutoff = 0.63] \n",
      "Accuracy, Recall = (0.80025, 0.6396396396396397)\n"
     ]
    }
   ],
   "source": [
    "cutoff = 0.63\n",
    "\n",
    "print_model_results(\n",
    "    \"Gradient Boosting\", \n",
    "    eval_model(model_gradient, cutoff), \n",
    "    cutoff\n",
    ")"
   ]
  },
  {
   "cell_type": "markdown",
   "id": "458ab8ba",
   "metadata": {},
   "source": [
    "# Random Forest {-}"
   ]
  },
  {
   "cell_type": "code",
   "execution_count": 119,
   "id": "70627fbd",
   "metadata": {},
   "outputs": [
    {
     "name": "stdout",
     "output_type": "stream",
     "text": [
      "Total Time (s): 151.59118628501892\n"
     ]
    }
   ],
   "source": [
    "start = time.time()\n",
    "\n",
    "grid = {\n",
    "    'n_estimators': [100, 250, 500],\n",
    "    'max_depth': range(10, 35, 5),\n",
    "    'max_features': range(7, 42, 5)\n",
    "}\n",
    "\n",
    "cv = StratifiedKFold(n_splits = 5, shuffle = True, random_state = 1)\n",
    "grid_search_rf = GridSearchCV(\n",
    "    estimator = RandomForestClassifier(random_state = 1),\n",
    "    param_grid = grid,\n",
    "    n_jobs = -1, \n",
    "    cv = cv,\n",
    "    scoring = ['accuracy', 'recall'], \n",
    "    refit = 'recall'\n",
    ").fit(X_train, y_train)\n",
    "\n",
    "end = time.time()\n",
    "print(\"Total Time (s):\", end - start)"
   ]
  },
  {
   "cell_type": "code",
   "execution_count": 120,
   "id": "dfd6c465",
   "metadata": {},
   "outputs": [
    {
     "data": {
      "text/plain": [
       "{'max_depth': 25, 'max_features': 7, 'n_estimators': 500}"
      ]
     },
     "execution_count": 120,
     "metadata": {},
     "output_type": "execute_result"
    }
   ],
   "source": [
    "grid_search_rf.best_params_"
   ]
  },
  {
   "cell_type": "code",
   "execution_count": 121,
   "id": "81a2c1d7",
   "metadata": {},
   "outputs": [],
   "source": [
    "model_rf = RandomForestClassifier(\n",
    "    n_estimators = 500, max_depth = 25,\n",
    "    max_features = 7, random_state = 1\n",
    ").fit(X_train, y_train)"
   ]
  },
  {
   "cell_type": "code",
   "execution_count": 122,
   "id": "600ccfdd",
   "metadata": {},
   "outputs": [
    {
     "data": {
      "image/png": "[encoded data removed]",
      "text/plain": [
       "<Figure size 432x288 with 1 Axes>"
      ]
     },
     "metadata": {
      "needs_background": "light"
     },
     "output_type": "display_data"
    }
   ],
   "source": [
    "plot_metrics_against_cutoff(model_rf)"
   ]
  },
  {
   "cell_type": "code",
   "execution_count": 123,
   "id": "4e901ed8",
   "metadata": {},
   "outputs": [
    {
     "data": {
      "image/png": "[encoded data removed]",
      "text/plain": [
       "<Figure size 432x288 with 1 Axes>"
      ]
     },
     "metadata": {
      "needs_background": "light"
     },
     "output_type": "display_data"
    }
   ],
   "source": [
    "plot_metrics_against_cutoff(\n",
    "    model_rf,\n",
    "    np.arange(0.45, 0.8, 0.03)\n",
    ")"
   ]
  },
  {
   "cell_type": "code",
   "execution_count": 173,
   "id": "da210c85",
   "metadata": {},
   "outputs": [
    {
     "name": "stdout",
     "output_type": "stream",
     "text": [
      "Random Forest Results [Cutoff = 0.576] \n",
      "Accuracy, Recall = (0.7765, 0.7027027027027027)\n"
     ]
    }
   ],
   "source": [
    "cutoff = 0.576\n",
    "\n",
    "print_model_results(\n",
    "    \"Random Forest\", \n",
    "    eval_model(model_rf, cutoff), \n",
    "    cutoff\n",
    ")"
   ]
  },
  {
   "cell_type": "code",
   "execution_count": 149,
   "id": "a79bd595",
   "metadata": {},
   "outputs": [
    {
     "name": "stdout",
     "output_type": "stream",
     "text": [
      "Random Forest Results [Cutoff = 0.621] \n",
      "Accuracy, Recall = (0.8, 0.6156156156156156)\n"
     ]
    }
   ],
   "source": [
    "cutoff = 0.621\n",
    "\n",
    "print_model_results(\n",
    "    \"Random Forest\", \n",
    "    eval_model(model_rf, cutoff), \n",
    "    cutoff\n",
    ")"
   ]
  },
  {
   "cell_type": "markdown",
   "id": "f2be3ec2",
   "metadata": {},
   "source": [
    "# Extra Trees {-}"
   ]
  },
  {
   "cell_type": "code",
   "execution_count": 150,
   "id": "1c667760",
   "metadata": {},
   "outputs": [
    {
     "name": "stdout",
     "output_type": "stream",
     "text": [
      "Total Time (s): 129.12738585472107\n"
     ]
    }
   ],
   "source": [
    "start = time.time()\n",
    "\n",
    "grid = {\n",
    "    'n_estimators': [100, 250, 500],\n",
    "    'max_depth': range(10, 35, 5),\n",
    "    'max_features': range(7, 42, 5),\n",
    "}\n",
    "\n",
    "cv = StratifiedKFold(n_splits = 5, shuffle = True, random_state = 1)\n",
    "grid_search_et = GridSearchCV(\n",
    "    estimator = ExtraTreesClassifier(random_state = 1),\n",
    "    param_grid = grid,\n",
    "    n_jobs = -1, \n",
    "    cv = cv,\n",
    "    scoring = ['accuracy', 'recall'], \n",
    "    refit = 'recall'\n",
    ").fit(X_train, y_train)\n",
    "\n",
    "end = time.time()\n",
    "print(\"Total Time (s):\", end - start)"
   ]
  },
  {
   "cell_type": "code",
   "execution_count": 151,
   "id": "d897bdcd",
   "metadata": {},
   "outputs": [
    {
     "data": {
      "text/plain": [
       "{'max_depth': 25, 'max_features': 7, 'n_estimators': 100}"
      ]
     },
     "execution_count": 151,
     "metadata": {},
     "output_type": "execute_result"
    }
   ],
   "source": [
    "grid_search_et.best_params_"
   ]
  },
  {
   "cell_type": "code",
   "execution_count": 153,
   "id": "20293e55",
   "metadata": {},
   "outputs": [],
   "source": [
    "model_et = RandomForestClassifier(\n",
    "    n_estimators = 100, max_depth = 25,\n",
    "    max_features = 7, random_state = 1\n",
    ").fit(X_train, y_train)"
   ]
  },
  {
   "cell_type": "code",
   "execution_count": 154,
   "id": "5fecb48e",
   "metadata": {},
   "outputs": [
    {
     "data": {
      "image/png": "[encoded data removed]",
      "text/plain": [
       "<Figure size 432x288 with 1 Axes>"
      ]
     },
     "metadata": {
      "needs_background": "light"
     },
     "output_type": "display_data"
    }
   ],
   "source": [
    "plot_metrics_against_cutoff(model_et)"
   ]
  },
  {
   "cell_type": "code",
   "execution_count": 155,
   "id": "c509abb7",
   "metadata": {},
   "outputs": [
    {
     "data": {
      "image/png": "[encoded data removed]",
      "text/plain": [
       "<Figure size 432x288 with 1 Axes>"
      ]
     },
     "metadata": {
      "needs_background": "light"
     },
     "output_type": "display_data"
    }
   ],
   "source": [
    "plot_metrics_against_cutoff(\n",
    "    model_et,\n",
    "    np.arange(0.45, 0.7, 0.02)\n",
    ")"
   ]
  },
  {
   "cell_type": "code",
   "execution_count": 176,
   "id": "44ccabe6",
   "metadata": {},
   "outputs": [
    {
     "name": "stdout",
     "output_type": "stream",
     "text": [
      "Extra Trees Results [Cutoff = 0.576] \n",
      "Accuracy, Recall = (0.77075, 0.7027027027027027)\n"
     ]
    }
   ],
   "source": [
    "cutoff = 0.576\n",
    "\n",
    "print_model_results(\n",
    "    \"Extra Trees\", \n",
    "    eval_model(model_et, cutoff), \n",
    "    cutoff\n",
    ")"
   ]
  },
  {
   "cell_type": "code",
   "execution_count": 166,
   "id": "a279720d",
   "metadata": {},
   "outputs": [
    {
     "name": "stdout",
     "output_type": "stream",
     "text": [
      "Extra Trees Results [Cutoff = 0.621] \n",
      "Accuracy, Recall = (0.804, 0.6246246246246246)\n"
     ]
    }
   ],
   "source": [
    "cutoff = 0.621\n",
    "\n",
    "print_model_results(\n",
    "    \"Extra Trees\", \n",
    "    eval_model(model_et, cutoff), \n",
    "    cutoff\n",
    ")"
   ]
  },
  {
   "cell_type": "markdown",
   "id": "dd2074ae",
   "metadata": {},
   "source": [
    "# Model Performance Comparisons {-}"
   ]
  },
  {
   "cell_type": "code",
   "execution_count": 177,
   "id": "e57d2919",
   "metadata": {},
   "outputs": [
    {
     "data": {
      "text/html": [
       "<div>\n",
       "<style scoped>\n",
       "    .dataframe tbody tr th:only-of-type {\n",
       "        vertical-align: middle;\n",
       "    }\n",
       "\n",
       "    .dataframe tbody tr th {\n",
       "        vertical-align: top;\n",
       "    }\n",
       "\n",
       "    .dataframe thead th {\n",
       "        text-align: right;\n",
       "    }\n",
       "</style>\n",
       "<table border=\"1\" class=\"dataframe\">\n",
       "  <thead>\n",
       "    <tr style=\"text-align: right;\">\n",
       "      <th></th>\n",
       "      <th>Model Name</th>\n",
       "      <th>Accuracy (at 70% Recall)</th>\n",
       "      <th>Recall (at 80% Accuracy)</th>\n",
       "    </tr>\n",
       "  </thead>\n",
       "  <tbody>\n",
       "    <tr>\n",
       "      <th>0</th>\n",
       "      <td>AdaBoost</td>\n",
       "      <td>0.73975</td>\n",
       "      <td>0.495</td>\n",
       "    </tr>\n",
       "    <tr>\n",
       "      <th>1</th>\n",
       "      <td>Gradient Boost</td>\n",
       "      <td>0.76550</td>\n",
       "      <td>0.640</td>\n",
       "    </tr>\n",
       "    <tr>\n",
       "      <th>2</th>\n",
       "      <td>Random Forest</td>\n",
       "      <td>0.77650</td>\n",
       "      <td>0.616</td>\n",
       "    </tr>\n",
       "    <tr>\n",
       "      <th>3</th>\n",
       "      <td>Extra Trees</td>\n",
       "      <td>0.77075</td>\n",
       "      <td>0.625</td>\n",
       "    </tr>\n",
       "  </tbody>\n",
       "</table>\n",
       "</div>"
      ],
      "text/plain": [
       "       Model Name  Accuracy (at 70% Recall)  Recall (at 80% Accuracy)\n",
       "0        AdaBoost                   0.73975                     0.495\n",
       "1  Gradient Boost                   0.76550                     0.640\n",
       "2   Random Forest                   0.77650                     0.616\n",
       "3     Extra Trees                   0.77075                     0.625"
      ]
     },
     "execution_count": 177,
     "metadata": {},
     "output_type": "execute_result"
    }
   ],
   "source": [
    "model_names = [\n",
    "    'AdaBoost', 'Gradient Boost', 'Random Forest', 'Extra Trees'\n",
    "]\n",
    "\n",
    "accuracies = [0.73975, 0.7655, 0.7765, 0.77075]\n",
    "recalls = [0.495, 0.640, 0.616, 0.625]\n",
    "\n",
    "pd.DataFrame(\n",
    "    zip(model_names, accuracies, recalls),\n",
    "    columns = [\n",
    "        \"Model Name\", \"Accuracy (at 70% Recall)\", \"Recall (at 80% Accuracy)\"\n",
    "    ]\n",
    ")"
   ]
  },
  {
   "cell_type": "markdown",
   "id": "533896ee",
   "metadata": {},
   "source": [
    "# Final Model Recommendation / Performances {-}"
   ]
  },
  {
   "cell_type": "code",
   "execution_count": null,
   "id": "66bb42a2",
   "metadata": {},
   "outputs": [],
   "source": [
    "# TODO (Kind of optional - just tune cutoffs essentially?)"
   ]
  },
  {
   "cell_type": "markdown",
   "id": "38ce0d67",
   "metadata": {},
   "source": [
    "# Feature Importances / Takeaways {-}"
   ]
  },
  {
   "cell_type": "code",
   "execution_count": 191,
   "id": "cecb6165",
   "metadata": {},
   "outputs": [
    {
     "data": {
      "text/html": [
       "<div>\n",
       "<style scoped>\n",
       "    .dataframe tbody tr th:only-of-type {\n",
       "        vertical-align: middle;\n",
       "    }\n",
       "\n",
       "    .dataframe tbody tr th {\n",
       "        vertical-align: top;\n",
       "    }\n",
       "\n",
       "    .dataframe thead th {\n",
       "        text-align: right;\n",
       "    }\n",
       "</style>\n",
       "<table border=\"1\" class=\"dataframe\">\n",
       "  <thead>\n",
       "    <tr style=\"text-align: right;\">\n",
       "      <th></th>\n",
       "      <th>Feature</th>\n",
       "      <th>Avg Coeff</th>\n",
       "    </tr>\n",
       "  </thead>\n",
       "  <tbody>\n",
       "    <tr>\n",
       "      <th>14</th>\n",
       "      <td>BMI</td>\n",
       "      <td>0.166346</td>\n",
       "    </tr>\n",
       "    <tr>\n",
       "      <th>26</th>\n",
       "      <td>PhysicalHealth</td>\n",
       "      <td>0.070652</td>\n",
       "    </tr>\n",
       "    <tr>\n",
       "      <th>34</th>\n",
       "      <td>SleepTime</td>\n",
       "      <td>0.065302</td>\n",
       "    </tr>\n",
       "    <tr>\n",
       "      <th>18</th>\n",
       "      <td>DiffWalking</td>\n",
       "      <td>0.063990</td>\n",
       "    </tr>\n",
       "    <tr>\n",
       "      <th>16</th>\n",
       "      <td>Diabetic_Yes</td>\n",
       "      <td>0.051144</td>\n",
       "    </tr>\n",
       "    <tr>\n",
       "      <th>11</th>\n",
       "      <td>AgeCategory_80_or_older</td>\n",
       "      <td>0.044714</td>\n",
       "    </tr>\n",
       "    <tr>\n",
       "      <th>32</th>\n",
       "      <td>Sex_Male</td>\n",
       "      <td>0.044449</td>\n",
       "    </tr>\n",
       "    <tr>\n",
       "      <th>24</th>\n",
       "      <td>MentalHealth</td>\n",
       "      <td>0.043309</td>\n",
       "    </tr>\n",
       "    <tr>\n",
       "      <th>19</th>\n",
       "      <td>GenHealth_Fair</td>\n",
       "      <td>0.031352</td>\n",
       "    </tr>\n",
       "    <tr>\n",
       "      <th>9</th>\n",
       "      <td>AgeCategory_70-74</td>\n",
       "      <td>0.028609</td>\n",
       "    </tr>\n",
       "  </tbody>\n",
       "</table>\n",
       "</div>"
      ],
      "text/plain": [
       "                    Feature  Avg Coeff\n",
       "14                      BMI   0.166346\n",
       "26           PhysicalHealth   0.070652\n",
       "34                SleepTime   0.065302\n",
       "18              DiffWalking   0.063990\n",
       "16             Diabetic_Yes   0.051144\n",
       "11  AgeCategory_80_or_older   0.044714\n",
       "32                 Sex_Male   0.044449\n",
       "24             MentalHealth   0.043309\n",
       "19           GenHealth_Fair   0.031352\n",
       "9         AgeCategory_70-74   0.028609"
      ]
     },
     "execution_count": 191,
     "metadata": {},
     "output_type": "execute_result"
    }
   ],
   "source": [
    "features = list(X.columns)\n",
    "coeffs_gradient = model_gradient.feature_importances_\n",
    "coeffs_rf = model_rf.feature_importances_\n",
    "coeffs_et = model_et.feature_importances_\n",
    "\n",
    "df_coeffs = pd.DataFrame(\n",
    "    zip(features, coeffs_gradient, coeffs_rf, coeffs_et),\n",
    "    columns = [\n",
    "        \"Feature\", \"Coeffs (GB)\", \"Coeffs (RF)\", \"Coeffs (ET)\"\n",
    "    ]\n",
    ")\n",
    "\n",
    "coeff_cols = df_coeffs.iloc[:, 1:4]\n",
    "df_coeffs['Avg Coeff'] = coeff_cols.mean(axis = 1)\n",
    "df_coeff = df_coeffs.sort_values(by = \"Avg Coeff\", ascending = False)\n",
    "\n",
    "df_coeff[['Feature', 'Avg Coeff']].iloc[:10,:]"
   ]
  }
 ],
 "metadata": {
  "kernelspec": {
   "display_name": "Python 3",
   "language": "python",
   "name": "python3"
  },
  "language_info": {
   "codemirror_mode": {
    "name": "ipython",
    "version": 3
   },
   "file_extension": ".py",
   "mimetype": "text/x-python",
   "name": "python",
   "nbconvert_exporter": "python",
   "pygments_lexer": "ipython3",
   "version": "3.8.8"
  }
 },
 "nbformat": 4,
 "nbformat_minor": 5
}
