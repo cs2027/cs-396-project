{
 "cells": [
  {
   "cell_type": "code",
   "execution_count": 1,
   "id": "4f667e85",
   "metadata": {},
   "outputs": [],
   "source": [
    "import pandas as pd\n",
    "import numpy as np\n",
    "import matplotlib.pyplot as plt\n",
    "import seaborn as sns\n",
    "from sklearn.preprocessing import StandardScaler, MinMaxScaler\n",
    "from sklearn.model_selection import cross_val_score, KFold, \\\n",
    "    StratifiedKFold, GridSearchCV, ParameterGrid, train_test_split, \\\n",
    "    cross_validate\n",
    "from sklearn.metrics import accuracy_score, recall_score\n",
    "from sklearn.neighbors import KNeighborsClassifier\n",
    "from sklearn.linear_model import LogisticRegression\n",
    "from imblearn.under_sampling import RandomUnderSampler\n",
    "import time as time"
   ]
  },
  {
   "cell_type": "markdown",
   "id": "7b44c707",
   "metadata": {},
   "source": [
    "# Read Data + Initial X, y Split {-}"
   ]
  },
  {
   "cell_type": "code",
   "execution_count": 2,
   "id": "1099605a",
   "metadata": {},
   "outputs": [],
   "source": [
    "df = pd.read_csv(\"data/heart_2020_cleaned_v2.csv\")\n",
    "\n",
    "X = df[df.columns.difference(['Unnamed: 0', 'HeartDisease'])]\n",
    "y = df['HeartDisease']\n",
    "\n",
    "X_train, X_test, y_train, y_test = train_test_split(\n",
    "    X, y, test_size = 0.2, random_state = 0\n",
    ")\n",
    "\n",
    "scaler = StandardScaler().fit(X_train)\n",
    "X_train = scaler.transform(X_train)\n",
    "X_test = scaler.transform(X_test)"
   ]
  },
  {
   "cell_type": "markdown",
   "id": "94acccb6",
   "metadata": {},
   "source": [
    "# Address Dataset Imbalance {-}"
   ]
  },
  {
   "cell_type": "code",
   "execution_count": 3,
   "id": "090751f9",
   "metadata": {},
   "outputs": [
    {
     "data": {
      "image/png": "[encoded data removed]",
      "text/plain": [
       "<Figure size 432x288 with 1 Axes>"
      ]
     },
     "metadata": {
      "needs_background": "light"
     },
     "output_type": "display_data"
    }
   ],
   "source": [
    "ax = y_train.value_counts().plot(\n",
    "    kind = 'bar', title = 'Relative Frequencies of Response Var'\n",
    ")\n",
    "ax.set_xlabel('Response Var (Heart Disease)')\n",
    "ax.set_ylabel('Frequencies')\n",
    "plt.show()"
   ]
  },
  {
   "cell_type": "code",
   "execution_count": 4,
   "id": "3f447ce1",
   "metadata": {},
   "outputs": [],
   "source": [
    "rus = RandomUnderSampler(random_state = 1)\n",
    "X_train, y_train = rus.fit_resample(X_train, y_train)"
   ]
  },
  {
   "cell_type": "code",
   "execution_count": 5,
   "id": "a50415f2",
   "metadata": {},
   "outputs": [
    {
     "data": {
      "image/png": "[encoded data removed]",
      "text/plain": [
       "<Figure size 432x288 with 1 Axes>"
      ]
     },
     "metadata": {
      "needs_background": "light"
     },
     "output_type": "display_data"
    }
   ],
   "source": [
    "ax = y_train.value_counts().plot(\n",
    "    kind = 'bar', \n",
    "    title = 'Relative Frequencies of Response Var \\n [After Undersampling]'\n",
    ")\n",
    "ax.set_xlabel('Response Var (Heart Disease)')\n",
    "ax.set_ylabel('Frequencies')\n",
    "plt.show()"
   ]
  },
  {
   "cell_type": "markdown",
   "id": "8fc796ca",
   "metadata": {},
   "source": [
    "# KNearestNeighbors {-}"
   ]
  },
  {
   "cell_type": "code",
   "execution_count": 6,
   "id": "96512ebd",
   "metadata": {},
   "outputs": [],
   "source": [
    "def plot_metrics_against_cutoff(model, cutoffs = np.arange(0, 1.05, 0.05)):\n",
    "    accuracies = []\n",
    "    recalls = []\n",
    "    \n",
    "    for cutoff in cutoffs:\n",
    "        acc, recall = eval_model(model, cutoff)\n",
    "        accuracies.append(acc)\n",
    "        recalls.append(recall)\n",
    "        \n",
    "    plt.plot(cutoffs, accuracies, marker = 'o', label = \"Accuracy\")\n",
    "    plt.plot(cutoffs, recalls, marker = 'o', label = \"Recall\")\n",
    "    plt.xlabel(\"Cutoff\")\n",
    "    plt.title(\"Cutoffs vs. Model Performances\")\n",
    "    plt.legend()\n",
    "    plt.grid()\n",
    "    plt.show()   \n",
    "\n",
    "def eval_model(model, cutoff = 0.5):\n",
    "    y_predict = (model.predict_proba(X_test)[:,1] >= cutoff).astype(int)\n",
    "    acc = accuracy_score(y_test, y_predict)\n",
    "    recall = recall_score(y_test, y_predict)\n",
    "    return acc, recall\n",
    "\n",
    "def print_model_results(model_name, eval_results, cutoff):\n",
    "    print(f\"{model_name} Results [Cutoff = {cutoff}] \")\n",
    "    print(\"Accuracy, Recall =\", eval_results)"
   ]
  },
  {
   "cell_type": "code",
   "execution_count": 7,
   "id": "64918541",
   "metadata": {},
   "outputs": [
    {
     "name": "stdout",
     "output_type": "stream",
     "text": [
      "Total Time (s): 15.696285247802734\n"
     ]
    }
   ],
   "source": [
    "start = time.time()\n",
    "\n",
    "\n",
    "k_range = list(range(1, 31))\n",
    "grid = dict(n_neighbors=k_range)\n",
    "\n",
    "cv = StratifiedKFold(n_splits = 5, shuffle = True, random_state = 1)\n",
    "grid_search_knn = GridSearchCV(\n",
    "    estimator = KNeighborsClassifier(),\n",
    "    param_grid = grid,\n",
    "    n_jobs = -1, \n",
    "    cv = cv,\n",
    "    scoring = ['accuracy', 'recall'], \n",
    "    refit = 'recall'\n",
    ").fit(X_train, y_train)\n",
    "\n",
    "end = time.time()\n",
    "print(\"Total Time (s):\", end - start)"
   ]
  },
  {
   "cell_type": "code",
   "execution_count": 8,
   "id": "60f482d7",
   "metadata": {},
   "outputs": [
    {
     "data": {
      "text/plain": [
       "{'n_neighbors': 7}"
      ]
     },
     "execution_count": 8,
     "metadata": {},
     "output_type": "execute_result"
    }
   ],
   "source": [
    "grid_search_knn.best_params_"
   ]
  },
  {
   "cell_type": "code",
   "execution_count": 10,
   "id": "3d27eae9",
   "metadata": {},
   "outputs": [],
   "source": [
    "model_knn = KNeighborsClassifier(n_neighbors=7).fit(X_train, y_train)"
   ]
  },
  {
   "cell_type": "code",
   "execution_count": 11,
   "id": "e0d199ef",
   "metadata": {
    "scrolled": true
   },
   "outputs": [
    {
     "data": {
      "image/png": "[encoded data removed]",
      "text/plain": [
       "<Figure size 432x288 with 1 Axes>"
      ]
     },
     "metadata": {
      "needs_background": "light"
     },
     "output_type": "display_data"
    }
   ],
   "source": [
    "plot_metrics_against_cutoff(model_knn)"
   ]
  },
  {
   "cell_type": "code",
   "execution_count": 12,
   "id": "cd805a55",
   "metadata": {},
   "outputs": [
    {
     "data": {
      "image/png": "[encoded data removed]",
      "text/plain": [
       "<Figure size 432x288 with 1 Axes>"
      ]
     },
     "metadata": {
      "needs_background": "light"
     },
     "output_type": "display_data"
    }
   ],
   "source": [
    "plot_metrics_against_cutoff(\n",
    "    model_knn,\n",
    "    np.arange(0.45, 0.66, 0.01)\n",
    ")"
   ]
  },
  {
   "cell_type": "code",
   "execution_count": 13,
   "id": "55744b55",
   "metadata": {},
   "outputs": [
    {
     "name": "stdout",
     "output_type": "stream",
     "text": [
      "K Nearest Neighbors Results [Cutoff = 0.57] \n",
      "Accuracy, Recall = (0.72575, 0.7087087087087087)\n"
     ]
    }
   ],
   "source": [
    "cutoff = 0.570\n",
    "\n",
    "print_model_results(\n",
    "    \"K Nearest Neighbors\", \n",
    "    eval_model(model_knn, cutoff), \n",
    "    cutoff\n",
    ")"
   ]
  },
  {
   "cell_type": "code",
   "execution_count": 17,
   "id": "fb0ce297",
   "metadata": {},
   "outputs": [
    {
     "name": "stdout",
     "output_type": "stream",
     "text": [
      "K Nearest Neighbors Results [Cutoff = 0.575] \n",
      "Accuracy, Recall = (0.802, 0.5525525525525525)\n"
     ]
    }
   ],
   "source": [
    "cutoff = 0.575\n",
    "\n",
    "print_model_results(\n",
    "    \"K Nearest Neighbors\", \n",
    "    eval_model(model_knn, cutoff), \n",
    "    cutoff\n",
    ")"
   ]
  },
  {
   "cell_type": "markdown",
   "id": "a466e793",
   "metadata": {},
   "source": [
    "# Logistic Regression {-}"
   ]
  },
  {
   "cell_type": "code",
   "execution_count": 22,
   "id": "8e3a8546",
   "metadata": {},
   "outputs": [
    {
     "name": "stderr",
     "output_type": "stream",
     "text": [
      "/Users/ash/opt/anaconda3/lib/python3.9/site-packages/sklearn/linear_model/_sag.py:350: ConvergenceWarning: The max_iter was reached which means the coef_ did not converge\n",
      "  warnings.warn(\n",
      "/Users/ash/opt/anaconda3/lib/python3.9/site-packages/sklearn/linear_model/_sag.py:350: ConvergenceWarning: The max_iter was reached which means the coef_ did not converge\n",
      "  warnings.warn(\n",
      "/Users/ash/opt/anaconda3/lib/python3.9/site-packages/sklearn/linear_model/_sag.py:350: ConvergenceWarning: The max_iter was reached which means the coef_ did not converge\n",
      "  warnings.warn(\n",
      "/Users/ash/opt/anaconda3/lib/python3.9/site-packages/sklearn/linear_model/_sag.py:350: ConvergenceWarning: The max_iter was reached which means the coef_ did not converge\n",
      "  warnings.warn(\n",
      "/Users/ash/opt/anaconda3/lib/python3.9/site-packages/sklearn/linear_model/_sag.py:350: ConvergenceWarning: The max_iter was reached which means the coef_ did not converge\n",
      "  warnings.warn(\n",
      "/Users/ash/opt/anaconda3/lib/python3.9/site-packages/sklearn/linear_model/_sag.py:350: ConvergenceWarning: The max_iter was reached which means the coef_ did not converge\n",
      "  warnings.warn(\n",
      "/Users/ash/opt/anaconda3/lib/python3.9/site-packages/sklearn/linear_model/_sag.py:350: ConvergenceWarning: The max_iter was reached which means the coef_ did not converge\n",
      "  warnings.warn(\n",
      "/Users/ash/opt/anaconda3/lib/python3.9/site-packages/sklearn/linear_model/_sag.py:350: ConvergenceWarning: The max_iter was reached which means the coef_ did not converge\n",
      "  warnings.warn(\n",
      "/Users/ash/opt/anaconda3/lib/python3.9/site-packages/sklearn/linear_model/_sag.py:350: ConvergenceWarning: The max_iter was reached which means the coef_ did not converge\n",
      "  warnings.warn(\n",
      "/Users/ash/opt/anaconda3/lib/python3.9/site-packages/sklearn/linear_model/_sag.py:350: ConvergenceWarning: The max_iter was reached which means the coef_ did not converge\n",
      "  warnings.warn(\n",
      "/Users/ash/opt/anaconda3/lib/python3.9/site-packages/sklearn/linear_model/_sag.py:350: ConvergenceWarning: The max_iter was reached which means the coef_ did not converge\n",
      "  warnings.warn(\n",
      "/Users/ash/opt/anaconda3/lib/python3.9/site-packages/sklearn/linear_model/_sag.py:350: ConvergenceWarning: The max_iter was reached which means the coef_ did not converge\n",
      "  warnings.warn(\n",
      "/Users/ash/opt/anaconda3/lib/python3.9/site-packages/sklearn/linear_model/_sag.py:350: ConvergenceWarning: The max_iter was reached which means the coef_ did not converge\n",
      "  warnings.warn(\n",
      "/Users/ash/opt/anaconda3/lib/python3.9/site-packages/sklearn/linear_model/_sag.py:350: ConvergenceWarning: The max_iter was reached which means the coef_ did not converge\n",
      "  warnings.warn(\n",
      "/Users/ash/opt/anaconda3/lib/python3.9/site-packages/sklearn/linear_model/_sag.py:350: ConvergenceWarning: The max_iter was reached which means the coef_ did not converge\n",
      "  warnings.warn(\n",
      "/Users/ash/opt/anaconda3/lib/python3.9/site-packages/sklearn/linear_model/_sag.py:350: ConvergenceWarning: The max_iter was reached which means the coef_ did not converge\n",
      "  warnings.warn(\n",
      "/Users/ash/opt/anaconda3/lib/python3.9/site-packages/sklearn/linear_model/_sag.py:350: ConvergenceWarning: The max_iter was reached which means the coef_ did not converge\n",
      "  warnings.warn(\n",
      "/Users/ash/opt/anaconda3/lib/python3.9/site-packages/sklearn/linear_model/_sag.py:350: ConvergenceWarning: The max_iter was reached which means the coef_ did not converge\n",
      "  warnings.warn(\n",
      "/Users/ash/opt/anaconda3/lib/python3.9/site-packages/sklearn/linear_model/_sag.py:350: ConvergenceWarning: The max_iter was reached which means the coef_ did not converge\n",
      "  warnings.warn(\n",
      "/Users/ash/opt/anaconda3/lib/python3.9/site-packages/sklearn/linear_model/_sag.py:350: ConvergenceWarning: The max_iter was reached which means the coef_ did not converge\n",
      "  warnings.warn(\n",
      "/Users/ash/opt/anaconda3/lib/python3.9/site-packages/sklearn/linear_model/_sag.py:350: ConvergenceWarning: The max_iter was reached which means the coef_ did not converge\n",
      "  warnings.warn(\n",
      "/Users/ash/opt/anaconda3/lib/python3.9/site-packages/sklearn/linear_model/_sag.py:350: ConvergenceWarning: The max_iter was reached which means the coef_ did not converge\n",
      "  warnings.warn(\n",
      "/Users/ash/opt/anaconda3/lib/python3.9/site-packages/sklearn/linear_model/_sag.py:350: ConvergenceWarning: The max_iter was reached which means the coef_ did not converge\n",
      "  warnings.warn(\n",
      "/Users/ash/opt/anaconda3/lib/python3.9/site-packages/sklearn/linear_model/_sag.py:350: ConvergenceWarning: The max_iter was reached which means the coef_ did not converge\n",
      "  warnings.warn(\n",
      "/Users/ash/opt/anaconda3/lib/python3.9/site-packages/sklearn/linear_model/_sag.py:350: ConvergenceWarning: The max_iter was reached which means the coef_ did not converge\n",
      "  warnings.warn(\n",
      "/Users/ash/opt/anaconda3/lib/python3.9/site-packages/sklearn/linear_model/_sag.py:350: ConvergenceWarning: The max_iter was reached which means the coef_ did not converge\n",
      "  warnings.warn(\n"
     ]
    },
    {
     "name": "stdout",
     "output_type": "stream",
     "text": [
      "Total Time (s): 8.761176824569702\n"
     ]
    }
   ],
   "source": [
    "import warnings\n",
    "warnings.filterwarnings('ignore')\n",
    "\n",
    "start = time.time()\n",
    "\n",
    "grid = {\n",
    "    \"C\":np.logspace(-3,3,7), \n",
    "    \"penalty\":[\"l1\",\"l2\"],\n",
    "    \"solver\": ['liblinear', 'saga']\n",
    "}\n",
    "\n",
    "cv = StratifiedKFold(n_splits = 5, shuffle = True, random_state = 1)\n",
    "grid_search_lr = GridSearchCV(\n",
    "    estimator = LogisticRegression(random_state = 1),\n",
    "    param_grid = grid,\n",
    "    n_jobs = -1, \n",
    "    cv = cv,\n",
    "    scoring = ['accuracy', 'recall'], \n",
    "    refit = 'recall'\n",
    ").fit(X_train, y_train)\n",
    "\n",
    "end = time.time()\n",
    "print(\"Total Time (s):\", end - start)"
   ]
  },
  {
   "cell_type": "code",
   "execution_count": 23,
   "id": "d621c74e",
   "metadata": {},
   "outputs": [
    {
     "data": {
      "text/plain": [
       "{'C': 0.001, 'penalty': 'l2', 'solver': 'liblinear'}"
      ]
     },
     "execution_count": 23,
     "metadata": {},
     "output_type": "execute_result"
    }
   ],
   "source": [
    "grid_search_lr.best_params_"
   ]
  },
  {
   "cell_type": "code",
   "execution_count": 24,
   "id": "422b682b",
   "metadata": {},
   "outputs": [],
   "source": [
    "model_lr = LogisticRegression(\n",
    "     C=0.001, penalty='l2', solver='liblinear', random_state = 1\n",
    ").fit(X_train, y_train)"
   ]
  },
  {
   "cell_type": "code",
   "execution_count": 25,
   "id": "9bd40cff",
   "metadata": {},
   "outputs": [
    {
     "data": {
      "image/png": "[encoded data removed]",
      "text/plain": [
       "<Figure size 432x288 with 1 Axes>"
      ]
     },
     "metadata": {
      "needs_background": "light"
     },
     "output_type": "display_data"
    }
   ],
   "source": [
    "plot_metrics_against_cutoff(model_lr)"
   ]
  },
  {
   "cell_type": "code",
   "execution_count": 29,
   "id": "7ec3cc05-0c3d-47e0-a3f8-6460964dbbe7",
   "metadata": {},
   "outputs": [
    {
     "data": {
      "image/png": "[encoded data removed]",
      "text/plain": [
       "<Figure size 432x288 with 1 Axes>"
      ]
     },
     "metadata": {
      "needs_background": "light"
     },
     "output_type": "display_data"
    }
   ],
   "source": [
    "plot_metrics_against_cutoff(\n",
    "    model_lr,\n",
    "    np.arange(0.5, 0.6, 0.01)\n",
    ")"
   ]
  },
  {
   "cell_type": "code",
   "execution_count": 34,
   "id": "afd8994e",
   "metadata": {},
   "outputs": [
    {
     "name": "stdout",
     "output_type": "stream",
     "text": [
      "Logistic Regression Results [Cutoff = 0.53] \n",
      "Accuracy, Recall = (0.7465, 0.7507507507507507)\n"
     ]
    }
   ],
   "source": [
    "cutoff = 0.53\n",
    "\n",
    "print_model_results(\n",
    "    \"Logistic Regression\", \n",
    "    eval_model(model_lr, cutoff), \n",
    "    cutoff\n",
    ")"
   ]
  },
  {
   "cell_type": "code",
   "execution_count": 35,
   "id": "71ae0bbf",
   "metadata": {},
   "outputs": [
    {
     "name": "stdout",
     "output_type": "stream",
     "text": [
      "Logistic Regression Results [Cutoff = 0.54] \n",
      "Accuracy, Recall = (0.758, 0.7297297297297297)\n"
     ]
    }
   ],
   "source": [
    "cutoff = 0.54\n",
    "\n",
    "print_model_results(\n",
    "    \"Logistic Regression\", \n",
    "    eval_model(model_lr, cutoff), \n",
    "    cutoff\n",
    ")"
   ]
  },
  {
   "cell_type": "markdown",
   "id": "22495056",
   "metadata": {},
   "source": [
    "# Model Performance Comparisons {-}"
   ]
  },
  {
   "cell_type": "markdown",
   "id": "9fa91055",
   "metadata": {},
   "source": [
    "# Final Model Recommendation / Performances {-}"
   ]
  },
  {
   "cell_type": "code",
   "execution_count": null,
   "id": "42697740",
   "metadata": {},
   "outputs": [],
   "source": [
    "# TODO (Kind of optional - just tune cutoffs essentially?)"
   ]
  },
  {
   "cell_type": "markdown",
   "id": "9ec52489",
   "metadata": {},
   "source": [
    "# Feature Importances / Takeaways {-}"
   ]
  },
  {
   "cell_type": "code",
   "execution_count": 37,
   "id": "427f1ed7",
   "metadata": {},
   "outputs": [
    {
     "ename": "AttributeError",
     "evalue": "'LogisticRegression' object has no attribute 'feature_importances_'",
     "output_type": "error",
     "traceback": [
      "\u001b[0;31m---------------------------------------------------------------------------\u001b[0m",
      "\u001b[0;31mAttributeError\u001b[0m                            Traceback (most recent call last)",
      "Input \u001b[0;32mIn [37]\u001b[0m, in \u001b[0;36m<cell line: 2>\u001b[0;34m()\u001b[0m\n\u001b[1;32m      1\u001b[0m features \u001b[38;5;241m=\u001b[39m \u001b[38;5;28mlist\u001b[39m(X\u001b[38;5;241m.\u001b[39mcolumns)\n\u001b[0;32m----> 2\u001b[0m coeffs_lr \u001b[38;5;241m=\u001b[39m \u001b[43mmodel_lr\u001b[49m\u001b[38;5;241;43m.\u001b[39;49m\u001b[43mfeature_importances_\u001b[49m\n\u001b[1;32m      3\u001b[0m coeffs_knn \u001b[38;5;241m=\u001b[39m model_knn\u001b[38;5;241m.\u001b[39mfeature_importances_\n\u001b[1;32m      5\u001b[0m df_coeffs \u001b[38;5;241m=\u001b[39m pd\u001b[38;5;241m.\u001b[39mDataFrame(\n\u001b[1;32m      6\u001b[0m     \u001b[38;5;28mzip\u001b[39m(features, coeffs_lr, coeffs_knn),\n\u001b[1;32m      7\u001b[0m     columns \u001b[38;5;241m=\u001b[39m [\n\u001b[1;32m      8\u001b[0m         \u001b[38;5;124m\"\u001b[39m\u001b[38;5;124mFeature\u001b[39m\u001b[38;5;124m\"\u001b[39m, \u001b[38;5;124m\"\u001b[39m\u001b[38;5;124mCoeffs (LR)\u001b[39m\u001b[38;5;124m\"\u001b[39m, \u001b[38;5;124m\"\u001b[39m\u001b[38;5;124mCoeffs (KNN)\u001b[39m\u001b[38;5;124m\"\u001b[39m\n\u001b[1;32m      9\u001b[0m     ]\n\u001b[1;32m     10\u001b[0m )\n",
      "\u001b[0;31mAttributeError\u001b[0m: 'LogisticRegression' object has no attribute 'feature_importances_'"
     ]
    }
   ],
   "source": [
    "features = list(X.columns)\n",
    "coeffs_lr = model_lr.feature_importances_\n",
    "coeffs_knn = model_knn.feature_importances_\n",
    "\n",
    "df_coeffs = pd.DataFrame(\n",
    "    zip(features, coeffs_lr, coeffs_knn),\n",
    "    columns = [\n",
    "        \"Feature\", \"Coeffs (LR)\", \"Coeffs (KNN)\"\n",
    "    ]\n",
    ")\n",
    "\n",
    "for col in [\"Coeffs (LR)\", \"Coeffs (KNN)\"]:\n",
    "    df_coeffs[col] = MinMaxScaler().fit_transform(df_coeffs[[col]])\n",
    "\n",
    "coeff_cols = df_coeffs.iloc[:, 1:4]\n",
    "df_coeffs['Avg Coeff'] = coeff_cols.mean(axis = 1)\n",
    "df_coeff = df_coeffs.sort_values(by = \"Avg Coeff\", ascending = False)\n",
    "\n",
    "df_coeff[['Feature', 'Avg Coeff']].iloc[:10,:]"
   ]
  }
 ],
 "metadata": {
  "kernelspec": {
   "display_name": "Python 3 (ipykernel)",
   "language": "python",
   "name": "python3"
  },
  "language_info": {
   "codemirror_mode": {
    "name": "ipython",
    "version": 3
   },
   "file_extension": ".py",
   "mimetype": "text/x-python",
   "name": "python",
   "nbconvert_exporter": "python",
   "pygments_lexer": "ipython3",
   "version": "3.9.12"
  }
 },
 "nbformat": 4,
 "nbformat_minor": 5
}
