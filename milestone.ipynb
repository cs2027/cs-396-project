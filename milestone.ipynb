{
 "cells": [
  {
   "cell_type": "code",
   "execution_count": 1,
   "id": "4f667e85",
   "metadata": {},
   "outputs": [],
   "source": [
    "import pandas as pd\n",
    "import numpy as np\n",
    "import statsmodels.formula.api as smf\n",
    "import statsmodels.api as sm\n",
    "import seaborn as sns\n",
    "import matplotlib.pyplot as plt\n",
    "from patsy import dmatrix\n",
    "from sklearn.metrics import mean_squared_error\n",
    "data = pd.read_csv(\"data/heart_2020_cleaned_v2.csv\")\n",
    "#data1 = pd.read_csv(\"/data/heart_2020_cleaned_v2.csv\",lines=True)"
   ]
  },
  {
   "cell_type": "code",
   "execution_count": 2,
   "id": "48bde50c",
   "metadata": {},
   "outputs": [
    {
     "name": "stdout",
     "output_type": "stream",
     "text": [
      "cv_results: {'fit_time': array([0.57243562, 0.230371  , 0.92517662]), 'score_time': array([1.66420341, 1.57017732, 2.71882105]), 'test_score': array([0.90607424, 0.90830677, 0.91280705])}\n",
      "0.084125\n",
      "cv_results with roc_auc: {'fit_time': array([0.294559  , 0.15470457, 0.11107183]), 'score_time': array([0.78737855, 0.53224659, 0.45896077]), 'test_score': array([0.66862606, 0.65816457, 0.66241479])}\n"
     ]
    }
   ],
   "source": [
    "# add all the parameters to the X (ie. age categoriy and race)\n",
    "# KNN analysis\n",
    "\n",
    "from sklearn.model_selection import train_test_split\n",
    "from sklearn.model_selection import cross_validate\n",
    "X=data[['Smoking', 'Stroke', 'PhysicalHealth','DiffWalking', \n",
    "        'Diabetic_Yes','GenHealth_Poor', 'GenHealth_Fair', \n",
    "        'KidneyDisease','AgeCategory_80_or_older','SkinCancer']]\n",
    "y=data['HeartDisease']\n",
    "\n",
    "X_train, X_test, y_train, y_test = train_test_split(X, y, test_size=0.2,random_state=0)\n",
    "\n",
    "from sklearn.neighbors import KNeighborsClassifier\n",
    "knn=KNeighborsClassifier()\n",
    "cv_results = cross_validate(knn,X_train,y_train,cv=3)\n",
    "print('cv_results:',cv_results)\n",
    "print(sum(y_train)/len(y_train))\n",
    "cv_results = cross_validate(knn, X_train, y_train, cv=3,scoring='roc_auc')\n",
    "print('cv_results with roc_auc:',cv_results)"
   ]
  },
  {
   "cell_type": "code",
   "execution_count": 3,
   "id": "468809b5",
   "metadata": {},
   "outputs": [
    {
     "name": "stdout",
     "output_type": "stream",
     "text": [
      "{'mean_fit_time': array([0.02510118, 0.03181601, 0.02827287, 0.03320162, 0.02844914,\n",
      "       0.03478591, 0.03021042, 0.03609729, 0.03338774, 0.04648137,\n",
      "       0.06766534, 0.12232916, 0.07077161, 0.06553022, 0.05035845,\n",
      "       0.06078879, 0.04691315, 0.04716269, 0.0403978 , 0.04336294]), 'std_fit_time': array([0.00067041, 0.00074689, 0.00137001, 0.00168825, 0.00149708,\n",
      "       0.00096094, 0.00099343, 0.00094008, 0.00533551, 0.0095762 ,\n",
      "       0.00918135, 0.05695722, 0.00232198, 0.0051235 , 0.00201251,\n",
      "       0.00106541, 0.00731203, 0.00301247, 0.0028307 , 0.0008442 ]), 'mean_score_time': array([0.00418361, 0.00431617, 0.00419052, 0.00363135, 0.00468397,\n",
      "       0.00379451, 0.00437689, 0.00430465, 0.00523472, 0.00679652,\n",
      "       0.00725396, 0.01141214, 0.01289113, 0.00745845, 0.00646385,\n",
      "       0.00837183, 0.00616097, 0.0053943 , 0.00635131, 0.00432587]), 'std_score_time': array([0.00106395, 0.0004602 , 0.00020582, 0.00025205, 0.00048986,\n",
      "       0.0002632 , 0.00054657, 0.00084248, 0.00035825, 0.00232128,\n",
      "       0.00150565, 0.00358898, 0.00401487, 0.00107192, 0.00039548,\n",
      "       0.00177768, 0.00065825, 0.00075726, 0.00029318, 0.00047812]), 'param_C': masked_array(data=[1, 1, 10, 10, 100, 100, 1000, 1000, 10000, 10000,\n",
      "                   100000, 100000, 1000000, 1000000, 10000000, 10000000,\n",
      "                   100000000, 100000000, 1000000000, 1000000000],\n",
      "             mask=[False, False, False, False, False, False, False, False,\n",
      "                   False, False, False, False, False, False, False, False,\n",
      "                   False, False, False, False],\n",
      "       fill_value='?',\n",
      "            dtype=object), 'param_penalty': masked_array(data=['l1', 'l2', 'l1', 'l2', 'l1', 'l2', 'l1', 'l2', 'l1',\n",
      "                   'l2', 'l1', 'l2', 'l1', 'l2', 'l1', 'l2', 'l1', 'l2',\n",
      "                   'l1', 'l2'],\n",
      "             mask=[False, False, False, False, False, False, False, False,\n",
      "                   False, False, False, False, False, False, False, False,\n",
      "                   False, False, False, False],\n",
      "       fill_value='?',\n",
      "            dtype=object), 'params': [{'C': 1, 'penalty': 'l1'}, {'C': 1, 'penalty': 'l2'}, {'C': 10, 'penalty': 'l1'}, {'C': 10, 'penalty': 'l2'}, {'C': 100, 'penalty': 'l1'}, {'C': 100, 'penalty': 'l2'}, {'C': 1000, 'penalty': 'l1'}, {'C': 1000, 'penalty': 'l2'}, {'C': 10000, 'penalty': 'l1'}, {'C': 10000, 'penalty': 'l2'}, {'C': 100000, 'penalty': 'l1'}, {'C': 100000, 'penalty': 'l2'}, {'C': 1000000, 'penalty': 'l1'}, {'C': 1000000, 'penalty': 'l2'}, {'C': 10000000, 'penalty': 'l1'}, {'C': 10000000, 'penalty': 'l2'}, {'C': 100000000, 'penalty': 'l1'}, {'C': 100000000, 'penalty': 'l2'}, {'C': 1000000000, 'penalty': 'l1'}, {'C': 1000000000, 'penalty': 'l2'}], 'split0_test_score': array([0.91901012, 0.91901012, 0.91901012, 0.91901012, 0.91901012,\n",
      "       0.91901012, 0.91901012, 0.91901012, 0.91901012, 0.91901012,\n",
      "       0.91901012, 0.91901012, 0.91901012, 0.91901012, 0.91901012,\n",
      "       0.91901012, 0.91901012, 0.91901012, 0.91901012, 0.91901012]), 'split1_test_score': array([0.91655728, 0.91655728, 0.91655728, 0.91655728, 0.91655728,\n",
      "       0.91655728, 0.91655728, 0.91655728, 0.91655728, 0.91655728,\n",
      "       0.91655728, 0.91655728, 0.91655728, 0.91655728, 0.91655728,\n",
      "       0.91655728, 0.91655728, 0.91655728, 0.91655728, 0.91655728]), 'split2_test_score': array([0.91449466, 0.91449466, 0.91430714, 0.91430714, 0.91430714,\n",
      "       0.91430714, 0.91430714, 0.91430714, 0.91430714, 0.91430714,\n",
      "       0.91430714, 0.91430714, 0.91430714, 0.91430714, 0.91430714,\n",
      "       0.91430714, 0.91430714, 0.91430714, 0.91430714, 0.91430714]), 'mean_test_score': array([0.91668735, 0.91668735, 0.91662485, 0.91662485, 0.91662485,\n",
      "       0.91662485, 0.91662485, 0.91662485, 0.91662485, 0.91662485,\n",
      "       0.91662485, 0.91662485, 0.91662485, 0.91662485, 0.91662485,\n",
      "       0.91662485, 0.91662485, 0.91662485, 0.91662485, 0.91662485]), 'std_test_score': array([0.00184572, 0.00184572, 0.00192058, 0.00192058, 0.00192058,\n",
      "       0.00192058, 0.00192058, 0.00192058, 0.00192058, 0.00192058,\n",
      "       0.00192058, 0.00192058, 0.00192058, 0.00192058, 0.00192058,\n",
      "       0.00192058, 0.00192058, 0.00192058, 0.00192058, 0.00192058]), 'rank_test_score': array([1, 1, 3, 3, 3, 3, 3, 3, 3, 3, 3, 3, 3, 3, 3, 3, 3, 3, 3, 3])}\n"
     ]
    },
    {
     "data": {
      "text/plain": [
       "0.915"
      ]
     },
     "execution_count": 3,
     "metadata": {},
     "output_type": "execute_result"
    }
   ],
   "source": [
    "# Logistic Regression\n",
    "from sklearn.linear_model import LogisticRegression\n",
    "from sklearn.model_selection import GridSearchCV\n",
    "\n",
    "lr_model = LogisticRegression(solver='liblinear') # LogisticRegression is a␣classification!!\n",
    "cv_results = cross_validate(lr_model, X_train, y_train, cv=3)\n",
    "cv_results\n",
    "\n",
    "parameters = {'C':[pow(10,i) for i in range(0, 10)],'penalty':['l1','l2']}\n",
    "clf = GridSearchCV(LogisticRegression(solver='liblinear'), parameters,cv=3) #liblinear allow l1 panelty as well\n",
    "clf.fit(X_train,y_train)\n",
    "print(clf.cv_results_)\n",
    "\n",
    "clf.score(X_test, y_test)"
   ]
  },
  {
   "cell_type": "code",
   "execution_count": 4,
   "id": "58e75b24",
   "metadata": {},
   "outputs": [
    {
     "data": {
      "text/plain": [
       "array([[0.56695067, 0.9206346 , 0.01342906, 0.42595948, 0.82868613,\n",
       "        0.99638965, 0.69848587, 0.79958334, 1.00751219, 0.61086924]])"
      ]
     },
     "execution_count": 4,
     "metadata": {},
     "output_type": "execute_result"
    }
   ],
   "source": [
    "clf.best_estimator_.coef_"
   ]
  },
  {
   "cell_type": "code",
   "execution_count": 5,
   "id": "99b29b7a",
   "metadata": {},
   "outputs": [
    {
     "name": "stdout",
     "output_type": "stream",
     "text": [
      "Linear Model Score:  0.10541440445855843\n",
      "Linear Model Coefficient:  [0.03648357 0.14302255 0.00137218 0.04520277 0.08292745 0.15545769\n",
      " 0.07013543 0.11662035 0.10651632 0.05790824]\n"
     ]
    },
    {
     "data": {
      "text/plain": [
       "{'fit_time': array([0.03028965, 0.02142096, 0.01856732]),\n",
       " 'score_time': array([0.01151848, 0.00398684, 0.0069766 ]),\n",
       " 'test_score': array([0.12789679, 0.11120832, 0.13007865])}"
      ]
     },
     "execution_count": 5,
     "metadata": {},
     "output_type": "execute_result"
    }
   ],
   "source": [
    "# Linear Regression\n",
    "\n",
    "from sklearn.linear_model import LinearRegression\n",
    "linear_model = LinearRegression()\n",
    "linear_model.fit(X_train, y_train)\n",
    "\n",
    "print(\"Linear Model Score: \", linear_model.score(X_test, y_test))\n",
    "print(\"Linear Model Coefficient: \",linear_model.coef_)\n",
    "\n",
    "cv_results = cross_validate(linear_model, X_train, y_train, cv=3)\n",
    "cv_results"
   ]
  },
  {
   "cell_type": "code",
   "execution_count": 7,
   "id": "64918541",
   "metadata": {},
   "outputs": [
    {
     "name": "stdout",
     "output_type": "stream",
     "text": [
      "GBC Accuracy: 0.91275\n",
      "ABC Accuracy: 0.915\n",
      "RFC Accuracy: 0.90875\n",
      "ETC Accuracy: 0.91\n"
     ]
    }
   ],
   "source": [
    "# Gradient Boosting Classifier\n",
    "from sklearn.ensemble import GradientBoostingClassifier\n",
    "from sklearn.ensemble import AdaBoostClassifier\n",
    "from sklearn.ensemble import RandomForestClassifier\n",
    "from sklearn.ensemble import ExtraTreesClassifier\n",
    "models = {'GBC':GradientBoostingClassifier(), \n",
    "          'ABC':AdaBoostClassifier(), \n",
    "          'RFC': RandomForestClassifier(), \n",
    "          'ETC': ExtraTreesClassifier()}\n",
    "for k in models.keys():\n",
    "    models[k].fit(X_train, y_train)\n",
    "    print(k, \"Accuracy:\", models[k].score(X_test, y_test))"
   ]
  },
  {
   "cell_type": "code",
   "execution_count": 8,
   "id": "327639d2",
   "metadata": {},
   "outputs": [
    {
     "name": "stdout",
     "output_type": "stream",
     "text": [
      "Accuracy: 0.915\n"
     ]
    }
   ],
   "source": [
    "gbt_model = GradientBoostingClassifier(max_depth=2,n_estimators=200)\n",
    "gbt_model.fit(X_train, y_train)\n",
    "print(\"Accuracy:\", gbt_model.score(X_test, y_test))"
   ]
  },
  {
   "cell_type": "code",
   "execution_count": 9,
   "id": "2601187c",
   "metadata": {},
   "outputs": [
    {
     "name": "stdout",
     "output_type": "stream",
     "text": [
      "Accuracy: 0.91475\n"
     ]
    }
   ],
   "source": [
    "abc_model = AdaBoostClassifier(n_estimators=200)\n",
    "abc_model.fit(X_train, y_train)\n",
    "print(\"Accuracy:\", abc_model.score(X_test, y_test))"
   ]
  }
 ],
 "metadata": {
  "kernelspec": {
   "display_name": "Python 3 (ipykernel)",
   "language": "python",
   "name": "python3"
  },
  "language_info": {
   "codemirror_mode": {
    "name": "ipython",
    "version": 3
   },
   "file_extension": ".py",
   "mimetype": "text/x-python",
   "name": "python",
   "nbconvert_exporter": "python",
   "pygments_lexer": "ipython3",
   "version": "3.9.7"
  }
 },
 "nbformat": 4,
 "nbformat_minor": 5
}
